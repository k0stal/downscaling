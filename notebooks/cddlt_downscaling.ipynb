{
 "cells": [
  {
   "cell_type": "markdown",
   "id": "46eced55-4777-4dca-b23f-4e9ec5b43de8",
   "metadata": {},
   "source": [
    "### Climate downscaling using CDDLT package"
   ]
  },
  {
   "cell_type": "code",
   "execution_count": 1,
   "id": "a812e75e-69a8-4a51-92b1-d1252e69bb32",
   "metadata": {
    "scrolled": true
   },
   "outputs": [],
   "source": [
    "# !pip install --index-url https://test.pypi.org/simple/ \\\n",
    "#              --extra-index-url https://pypi.org/simple \\\n",
    "#              cddlt --quiet"
   ]
  },
  {
   "cell_type": "code",
   "execution_count": 1,
   "id": "1afdbb63-fcd4-4de3-bff9-9be6092ebf1e",
   "metadata": {},
   "outputs": [
    {
     "name": "stderr",
     "output_type": "stream",
     "text": [
      "/home/kostape4/downscale/venv/lib/python3.12/site-packages/torch/cuda/__init__.py:619: UserWarning: Can't initialize NVML\n",
      "  warnings.warn(\"Can't initialize NVML\")\n"
     ]
    }
   ],
   "source": [
    "import os\n",
    "import argparse\n",
    "import torch\n",
    "import torchmetrics\n",
    "import cddlt\n",
    "\n",
    "from cddlt.datasets.rekis_dataset import ReKIS\n",
    "from cddlt.datasets.cordex_dataset import CORDEX\n",
    "from cddlt.dataloaders.downscaling_transform import DownscalingTransform\n",
    "\n",
    "from cddlt.models.espcn import ESPCN\n",
    "from cddlt.models.srcnn import SRCNN\n",
    "from cddlt.models.bicubic import Bicubic\n",
    "from cddlt.models.fno import FNO"
   ]
  },
  {
   "cell_type": "code",
   "execution_count": 2,
   "id": "b75e72ad-611c-485b-a24c-5ee378ed78a5",
   "metadata": {},
   "outputs": [
    {
     "data": {
      "text/plain": [
       "_StoreAction(option_strings=['--variables'], dest='variables', nargs=None, const=None, default=['TM'], type=<class 'list'>, choices=None, required=False, help=None, metavar=None)"
      ]
     },
     "execution_count": 2,
     "metadata": {},
     "output_type": "execute_result"
    }
   ],
   "source": [
    "parser = argparse.ArgumentParser()\n",
    "parser.add_argument(\"--batch_size\", default=64, type=int)\n",
    "parser.add_argument(\"--epochs\", default=10, type=int)\n",
    "parser.add_argument(\"--seed\", default=42, type=int)\n",
    "parser.add_argument(\"--threads\", default=4, type=int)\n",
    "parser.add_argument(\"--upscale_factor\", default=10, type=int)\n",
    "parser.add_argument(\"--lr\", default=0.001, type=float)\n",
    "parser.add_argument(\"--logdir\", default=\"logs\", type=str)\n",
    "parser.add_argument(\"--variables\", default=[\"TM\"], type=list)"
   ]
  },
  {
   "cell_type": "code",
   "execution_count": 4,
   "id": "3145ce2a-281b-4330-a7b8-fa6dffda3798",
   "metadata": {},
   "outputs": [],
   "source": [
    "args = parser.parse_args([])\n",
    "cddlt.startup(args, os.path.basename(\"notebook.ipynb\"))"
   ]
  },
  {
   "cell_type": "code",
   "execution_count": 5,
   "id": "6cdaef92-a171-4176-a276-fc8403857d4a",
   "metadata": {},
   "outputs": [],
   "source": [
    "REKIS_DATA_PATH = \"/home/kostape4/ReKIS/KlimRefDS_v3.1_1961-2023/Raster/Tag/GK4/TM/\"\n",
    "CORDEX_DATA_PATH = \"/home/kostape4/CORDEX/tas/GERICS_REMO2015\""
   ]
  },
  {
   "cell_type": "markdown",
   "id": "98cda3dc-fe35-4c8a-9901-57fecbd371fc",
   "metadata": {},
   "source": [
    "### ReKIS"
   ]
  },
  {
   "cell_type": "code",
   "execution_count": 10,
   "id": "06b503d1-6f3e-4932-9f43-a5d44dc56184",
   "metadata": {
    "scrolled": true
   },
   "outputs": [
    {
     "name": "stdout",
     "output_type": "stream",
     "text": [
      "Loading 63 NetCDF file(s)...\n",
      "Loaded data shape: {'time': 366, 'northing': 401, 'easting': 418}\n",
      "Time range: 2000-01-01 00:00:00 to 2000-12-31 00:00:00\n",
      "Variables in dataset: ['TM']\n",
      "inputs\n",
      "Shape of inputs: torch.Size([366, 1, 40, 40])\n",
      "targets\n",
      "Shape of targets: torch.Size([366, 1, 400, 400])\n",
      "Loading 63 NetCDF file(s)...\n",
      "Loaded data shape: {'time': 365, 'northing': 401, 'easting': 418}\n",
      "Time range: 2001-01-01 00:00:00 to 2001-12-31 00:00:00\n",
      "Variables in dataset: ['TM']\n",
      "inputs\n",
      "Shape of inputs: torch.Size([365, 1, 40, 40])\n",
      "targets\n",
      "Shape of targets: torch.Size([365, 1, 400, 400])\n",
      "Loading 63 NetCDF file(s)...\n",
      "Loaded data shape: {'time': 365, 'northing': 401, 'easting': 418}\n",
      "Time range: 2002-01-01 00:00:00 to 2002-12-31 00:00:00\n",
      "Variables in dataset: ['TM']\n",
      "inputs\n",
      "Shape of inputs: torch.Size([365, 1, 40, 40])\n",
      "targets\n",
      "Shape of targets: torch.Size([365, 1, 400, 400])\n",
      "ReKIS dataset initalized.\n",
      "train size: (366)\n",
      "dev size: (365)\n",
      "test size: (365)\n"
     ]
    }
   ],
   "source": [
    "rekis = ReKIS(\n",
    "    data_path=REKIS_DATA_PATH,\n",
    "    variables=args.variables,\n",
    "    train_len=(\"2000-01-01\", \"2001-01-01\"),\n",
    "    dev_len=(\"2001-01-01\", \"2002-01-01\"),\n",
    "    test_len=(\"2002-01-01\", \"2003-01-01\"), ## value framework input\n",
    "    resampling=\"cubic_spline\"\n",
    ")"
   ]
  },
  {
   "cell_type": "code",
   "execution_count": 22,
   "id": "b43f25dd-7798-44d6-ae27-58f0002807ce",
   "metadata": {},
   "outputs": [],
   "source": [
    "rekis_train = DownscalingTransform(dataset=rekis.train).dataloader(args.batch_size, shuffle=True)\n",
    "rekis_dev = DownscalingTransform(dataset=rekis.dev).dataloader(args.batch_size)\n",
    "rekis_test = DownscalingTransform(dataset=rekis.test).dataloader(args.batch_size)"
   ]
  },
  {
   "cell_type": "markdown",
   "id": "85617908-76b5-4b4f-aae4-1ff4843284fd",
   "metadata": {},
   "source": [
    "### Models"
   ]
  },
  {
   "cell_type": "code",
   "execution_count": 12,
   "id": "57d1b8d5-a07e-4f1b-a164-807ce958c28e",
   "metadata": {},
   "outputs": [],
   "source": [
    "espcn = ESPCN(\n",
    "    n_channels=1,\n",
    "    upscale_factor=args.upscale_factor,\n",
    "    stochastic=\n",
    ")"
   ]
  },
  {
   "cell_type": "code",
   "execution_count": 13,
   "id": "8da2a3f6-d0fe-484e-9138-ee03bb29b4b1",
   "metadata": {},
   "outputs": [
    {
     "data": {
      "text/plain": [
       "ESPCN(\n",
       "  (model): Sequential(\n",
       "    (0): Conv2d(1, 64, kernel_size=(5, 5), stride=(1, 1), padding=(2, 2))\n",
       "    (1): Tanh()\n",
       "    (2): Conv2d(64, 32, kernel_size=(3, 3), stride=(1, 1), padding=(1, 1))\n",
       "    (3): Tanh()\n",
       "    (4): Conv2d(32, 100, kernel_size=(3, 3), stride=(1, 1), padding=(1, 1))\n",
       "    (5): PixelShuffle(upscale_factor=10)\n",
       "  )\n",
       "  (loss): MeanSquaredError()\n",
       ")"
      ]
     },
     "execution_count": 13,
     "metadata": {},
     "output_type": "execute_result"
    }
   ],
   "source": [
    "espcn.configure(\n",
    "    optimizer = torch.optim.AdamW(params=espcn.parameters(), lr=args.lr),\n",
    "    scheduler = None,\n",
    "    loss = torchmetrics.MeanSquaredError(squared=False),\n",
    "    logdir = args.logdir\n",
    ")"
   ]
  },
  {
   "cell_type": "code",
   "execution_count": 14,
   "id": "59e1e2a1-0458-4b63-b327-adf331afd754",
   "metadata": {},
   "outputs": [],
   "source": [
    "# newer version of CUDA required\n",
    "# torch.backends.cuda.matmul.allow_tf32 = False\n",
    "# torch.backends.cudnn.allow_tf32 = False"
   ]
  },
  {
   "cell_type": "code",
   "execution_count": 17,
   "id": "13b7644a-a174-4351-bca3-24a79fa5de50",
   "metadata": {
    "scrolled": true
   },
   "outputs": [
    {
     "name": "stderr",
     "output_type": "stream",
     "text": [
      "                                                                                                                                                                                                                "
     ]
    }
   ],
   "source": [
    "espcn.fit(rekis_train, rekis_dev, args.epochs)"
   ]
  },
  {
   "cell_type": "code",
   "execution_count": 20,
   "id": "b2bbc7eb-daff-4561-a1fc-d0f343c3bdc5",
   "metadata": {},
   "outputs": [],
   "source": [
    "espcn.load_weights(args.logdir)"
   ]
  },
  {
   "cell_type": "code",
   "execution_count": 23,
   "id": "96e8fa80-6b42-4c96-a333-da41339511af",
   "metadata": {},
   "outputs": [],
   "source": [
    "predict = espcn.predict(rekis_test)"
   ]
  },
  {
   "cell_type": "code",
   "execution_count": 24,
   "id": "8c708b8b-9c23-4140-a01e-658b9ae1abb8",
   "metadata": {
    "scrolled": true
   },
   "outputs": [
    {
     "data": {
      "text/plain": [
       "[tensor([[[[ 3.0604,  3.1791,  3.0490,  ..., -5.1304, -4.5075, -5.1123],\n",
       "           [ 3.0697,  2.8275,  2.7292,  ..., -4.5778, -4.7703, -5.3395],\n",
       "           [ 2.9577,  2.9833,  2.6916,  ..., -4.8499, -4.5563, -5.1420],\n",
       "           ...,\n",
       "           [-4.5775, -4.4216, -4.5465,  ..., -3.7267, -3.8545, -3.6929],\n",
       "           [-4.0174, -4.2278, -3.8430,  ..., -3.6744, -3.5268, -3.3905],\n",
       "           [-4.5355, -4.5837, -4.1477,  ..., -3.7071, -3.8272, -3.5612]]],\n",
       " \n",
       " \n",
       "         [[[ 0.8157,  0.8946,  0.8117,  ..., -1.1485, -0.9807, -1.1794],\n",
       "           [ 0.8512,  0.7060,  0.6916,  ..., -1.1049, -1.1098, -1.2791],\n",
       "           [ 0.8053,  0.8152,  0.6394,  ..., -1.1099, -1.1141, -1.2247],\n",
       "           ...,\n",
       "           [-4.7602, -4.5932, -4.6953,  ..., -3.2838, -3.3346, -3.1987],\n",
       "           [-4.1890, -4.3859, -4.0185,  ..., -3.2020, -3.0944, -2.9622],\n",
       "           [-4.6977, -4.7552, -4.2996,  ..., -3.2252, -3.3416, -3.0572]]],\n",
       " \n",
       " \n",
       "         [[[-5.0403, -5.1057, -4.9917,  ..., -6.9941, -6.1297, -6.6924],\n",
       "           [-5.0137, -4.7868, -4.5708,  ..., -6.1664, -6.3690, -7.0722],\n",
       "           [-4.7872, -4.7566, -4.6740,  ..., -6.5397, -6.0420, -6.7145],\n",
       "           ...,\n",
       "           [-6.3393, -6.2043, -6.1308,  ..., -6.9491, -7.1888, -6.6292],\n",
       "           [-5.7037, -5.8382, -5.4586,  ..., -6.8427, -6.7433, -6.2910],\n",
       "           [-6.0881, -6.3070, -5.8632,  ..., -6.8762, -7.1503, -6.6810]]],\n",
       " \n",
       " \n",
       "         ...,\n",
       " \n",
       " \n",
       "         [[[ 5.0775,  5.3196,  5.0940,  ...,  0.0714,  0.1235, -0.0839],\n",
       "           [ 5.2131,  4.7918,  4.7414,  ..., -0.1539, -0.0650, -0.0840],\n",
       "           [ 4.9174,  4.9337,  4.7331,  ...,  0.0088, -0.1769, -0.1252],\n",
       "           ...,\n",
       "           [ 1.0137,  0.9055,  1.0322,  ...,  3.3814,  3.3245,  3.2929],\n",
       "           [ 0.9380,  0.8413,  0.8555,  ...,  3.3396,  3.2496,  2.9448],\n",
       "           [ 1.3077,  0.9988,  0.9403,  ...,  3.2947,  3.1293,  3.0000]]],\n",
       " \n",
       " \n",
       "         [[[ 6.2514,  6.5708,  6.3156,  ...,  5.9827,  5.2541,  5.6461],\n",
       "           [ 6.5006,  5.9852,  5.9455,  ...,  5.1932,  5.4855,  5.8734],\n",
       "           [ 6.0577,  6.0705,  6.0009,  ...,  5.6150,  5.0699,  5.6099],\n",
       "           ...,\n",
       "           [ 4.1706,  3.9491,  4.1440,  ...,  4.5729,  4.5028,  4.3804],\n",
       "           [ 3.7548,  3.8139,  3.5762,  ...,  4.4970,  4.3946,  3.9767],\n",
       "           [ 4.4241,  4.2096,  3.7620,  ...,  4.4527,  4.3041,  4.0859]]],\n",
       " \n",
       " \n",
       "         [[[ 6.1581,  6.4750,  6.2150,  ...,  6.5051,  5.7120,  6.1620],\n",
       "           [ 6.3938,  5.8831,  5.8466,  ...,  5.6943,  5.9688,  6.3995],\n",
       "           [ 5.9601,  5.9760,  5.8935,  ...,  6.1005,  5.5334,  6.1257],\n",
       "           ...,\n",
       "           [ 5.2944,  5.0366,  5.2135,  ...,  4.9939,  5.0351,  4.8093],\n",
       "           [ 4.7879,  4.9192,  4.5516,  ...,  4.9382,  4.8343,  4.3917],\n",
       "           [ 5.3853,  5.3256,  4.7930,  ...,  4.8985,  4.8302,  4.5764]]]]),\n",
       " tensor([[[[6.2345, 6.5585, 6.3002,  ..., 6.2958, 5.5368, 5.9439],\n",
       "           [6.4901, 5.9709, 5.9311,  ..., 5.5002, 5.7788, 6.1847],\n",
       "           [6.0415, 6.0549, 5.9785,  ..., 5.9142, 5.3543, 5.9057],\n",
       "           ...,\n",
       "           [5.2104, 4.9487, 5.1196,  ..., 6.2855, 6.3484, 5.9858],\n",
       "           [4.7034, 4.8314, 4.4814,  ..., 6.2037, 6.1183, 5.5802],\n",
       "           [5.3399, 5.2341, 4.7028,  ..., 6.2191, 6.2030, 5.8492]]],\n",
       " \n",
       " \n",
       "         [[[6.1215, 6.4377, 6.1839,  ..., 6.2941, 5.5361, 5.9454],\n",
       "           [6.3699, 5.8572, 5.8187,  ..., 5.4984, 5.7788, 6.1847],\n",
       "           [5.9365, 5.9465, 5.8539,  ..., 5.9154, 5.3520, 5.9068],\n",
       "           ...,\n",
       "           [6.2888, 6.0223, 6.1092,  ..., 6.4310, 6.5338, 6.1347],\n",
       "           [5.7292, 5.8710, 5.4274,  ..., 6.3585, 6.2731, 5.7343],\n",
       "           [6.2398, 6.2955, 5.7128,  ..., 6.3872, 6.4007, 6.0315]]],\n",
       " \n",
       " \n",
       "         [[[6.2609, 6.5837, 6.3245,  ..., 5.6515, 4.9645, 5.3256],\n",
       "           [6.5120, 5.9922, 5.9561,  ..., 4.8755, 5.1800, 5.5465],\n",
       "           [6.0643, 6.0777, 6.0071,  ..., 5.3077, 4.7809, 5.2862],\n",
       "           ...,\n",
       "           [5.6662, 5.3959, 5.5374,  ..., 5.6454, 5.6730, 5.4038],\n",
       "           [5.1330, 5.2645, 4.8739,  ..., 5.5695, 5.4736, 4.9789],\n",
       "           [5.7194, 5.6836, 5.1156,  ..., 5.5591, 5.4997, 5.2026]]],\n",
       " \n",
       " \n",
       "         ...,\n",
       " \n",
       " \n",
       "         [[[6.6515, 6.9903, 6.7432,  ..., 7.2700, 6.4092, 6.8843],\n",
       "           [6.9626, 6.4067, 6.3555,  ..., 6.4605, 6.6977, 7.1455],\n",
       "           [6.4474, 6.4652, 6.4428,  ..., 6.8171, 6.2387, 6.8309],\n",
       "           ...,\n",
       "           [6.3374, 6.0866, 6.1675,  ..., 7.4130, 7.6169, 7.0394],\n",
       "           [5.7797, 5.9341, 5.4816,  ..., 7.3461, 7.2596, 6.6749],\n",
       "           [6.2677, 6.3443, 5.7903,  ..., 7.4376, 7.5282, 7.0671]]],\n",
       " \n",
       " \n",
       "         [[[6.6291, 6.9643, 6.7258,  ..., 7.4298, 6.5404, 7.0322],\n",
       "           [6.9463, 6.3883, 6.3346,  ..., 6.6109, 6.8397, 7.2927],\n",
       "           [6.4301, 6.4466, 6.4215,  ..., 6.9528, 6.3703, 6.9893],\n",
       "           ...,\n",
       "           [7.2133, 7.0206, 6.9827,  ..., 7.5174, 7.7166, 7.1354],\n",
       "           [6.6684, 6.7634, 6.2863,  ..., 7.4519, 7.3595, 6.7748],\n",
       "           [6.9630, 7.2097, 6.7390,  ..., 7.5536, 7.6376, 7.1725]]],\n",
       " \n",
       " \n",
       "         [[[7.0322, 7.3700, 7.1373,  ..., 7.9412, 7.0174, 7.5006],\n",
       "           [7.3767, 6.7917, 6.7323,  ..., 7.1540, 7.3651, 7.7868],\n",
       "           [6.8109, 6.8342, 6.8698,  ..., 7.4373, 6.8676, 7.4460],\n",
       "           ...,\n",
       "           [7.4464, 7.2761, 7.1969,  ..., 7.6845, 7.8960, 7.2953],\n",
       "           [6.9135, 6.9802, 6.5072,  ..., 7.6226, 7.5270, 6.9336],\n",
       "           [7.1507, 7.4384, 7.0089,  ..., 7.7376, 7.8270, 7.3509]]]]),\n",
       " tensor([[[[7.3237, 7.6513, 7.4357,  ..., 8.0351, 7.1039, 7.5871],\n",
       "           [7.6858, 7.0819, 7.0203,  ..., 7.2537, 7.4629, 7.8775],\n",
       "           [7.0936, 7.1175, 7.2014,  ..., 7.5265, 6.9577, 7.5322],\n",
       "           ...,\n",
       "           [7.5637, 7.4086, 7.3071,  ..., 7.7066, 7.9158, 7.3153],\n",
       "           [7.0395, 7.0844, 6.6174,  ..., 7.6460, 7.5485, 6.9547],\n",
       "           [7.2405, 7.5558, 7.1541,  ..., 7.7623, 7.8490, 7.3729]]],\n",
       " \n",
       " \n",
       "         [[[7.3334, 7.6599, 7.4501,  ..., 8.0605, 7.1256, 7.6099],\n",
       "           [7.7023, 7.0977, 7.0293,  ..., 7.2789, 7.4874, 7.9009],\n",
       "           [7.1077, 7.1306, 7.2160,  ..., 7.5489, 6.9803, 7.5568],\n",
       "           ...,\n",
       "           [7.3972, 7.2281, 7.1552,  ..., 7.6332, 7.8489, 7.2482],\n",
       "           [6.8657, 6.9353, 6.4638,  ..., 7.5692, 7.4779, 6.8836],\n",
       "           [7.1085, 7.3935, 6.9627,  ..., 7.6781, 7.7719, 7.2978]]],\n",
       " \n",
       " \n",
       "         [[[7.2200, 7.5536, 7.3256,  ..., 8.0692, 7.1263, 7.6226],\n",
       "           [7.5705, 6.9747, 6.9183,  ..., 7.2777, 7.4856, 7.9086],\n",
       "           [6.9900, 7.0143, 7.0814,  ..., 7.5499, 6.9763, 7.5730],\n",
       "           ...,\n",
       "           [7.3217, 7.1452, 7.0867,  ..., 7.5426, 7.7424, 7.1589],\n",
       "           [6.7864, 6.8721, 6.3976,  ..., 7.4785, 7.3859, 6.7988],\n",
       "           [7.0521, 7.3177, 6.8755,  ..., 7.5813, 7.6669, 7.1991]]],\n",
       " \n",
       " \n",
       "         ...,\n",
       " \n",
       " \n",
       "         [[[7.4641, 7.7843, 7.5782,  ..., 8.2360, 7.2901, 7.7783],\n",
       "           [7.8381, 7.2218, 7.1568,  ..., 7.4663, 7.6720, 8.0743],\n",
       "           [7.2293, 7.2536, 7.3587,  ..., 7.7154, 7.1491, 7.7194],\n",
       "           ...,\n",
       "           [7.6870, 7.5499, 7.4218,  ..., 7.8723, 8.0908, 7.4720],\n",
       "           [7.1756, 7.1958, 6.7380,  ..., 7.8128, 7.7096, 7.1087],\n",
       "           [7.3375, 7.6815, 7.3155,  ..., 7.9408, 8.0284, 7.5461]]],\n",
       " \n",
       " \n",
       "         [[[7.2859, 7.6173, 7.3922,  ..., 8.2715, 7.3209, 7.8152],\n",
       "           [7.6450, 7.0419, 6.9810,  ..., 7.5001, 7.7058, 8.1085],\n",
       "           [7.0518, 7.0784, 7.1532,  ..., 7.7457, 7.1789, 7.7556],\n",
       "           ...,\n",
       "           [7.4706, 7.3149, 7.2280,  ..., 7.8546, 8.0730, 7.4523],\n",
       "           [6.9490, 7.0135, 6.5464,  ..., 7.7923, 7.6908, 7.0891],\n",
       "           [7.1717, 7.4688, 7.0635,  ..., 7.9161, 8.0073, 7.5239]]],\n",
       " \n",
       " \n",
       "         [[[7.2056, 7.5388, 7.3124,  ..., 8.1110, 7.1671, 7.6644],\n",
       "           [7.5549, 6.9611, 6.9051,  ..., 7.3230, 7.5300, 7.9511],\n",
       "           [6.9782, 7.0012, 7.0672,  ..., 7.5887, 7.0186, 7.6104],\n",
       "           ...,\n",
       "           [7.3619, 7.1927, 7.1253,  ..., 7.5533, 7.7504, 7.1648],\n",
       "           [6.8311, 6.9038, 6.4325,  ..., 7.4890, 7.3961, 6.8080],\n",
       "           [7.0800, 7.3608, 6.9290,  ..., 7.5901, 7.6755, 7.2064]]]]),\n",
       " tensor([[[[7.2754, 7.6053, 7.3852,  ..., 8.0582, 7.1245, 7.6097],\n",
       "           [7.6320, 7.0322, 6.9733,  ..., 7.2768, 7.4855, 7.9001],\n",
       "           [7.0461, 7.0697, 7.1464,  ..., 7.5475, 6.9783, 7.5547],\n",
       "           ...,\n",
       "           [7.5589, 7.4041, 7.3029,  ..., 7.7285, 7.9388, 7.3345],\n",
       "           [7.0354, 7.0818, 6.6151,  ..., 7.6674, 7.5694, 6.9747],\n",
       "           [7.2380, 7.5516, 7.1502,  ..., 7.7850, 7.8725, 7.3949]]],\n",
       " \n",
       " \n",
       "         [[[7.3951, 7.7201, 7.5094,  ..., 8.1364, 7.1973, 7.6827],\n",
       "           [7.7603, 7.1530, 7.0932,  ..., 7.3604, 7.5676, 7.9763],\n",
       "           [7.1659, 7.1879, 7.2853,  ..., 7.6215, 7.0539, 7.6266],\n",
       "           ...,\n",
       "           [7.4327, 7.2812, 7.1991,  ..., 7.7503, 7.9671, 7.3639],\n",
       "           [6.9133, 6.9737, 6.5079,  ..., 7.6919, 7.5941, 6.9993],\n",
       "           [7.1332, 7.4369, 7.0359,  ..., 7.8159, 7.9011, 7.4257]]],\n",
       " \n",
       " \n",
       "         [[[7.3556, 7.6820, 7.4696,  ..., 8.0937, 7.1521, 7.6453],\n",
       "           [7.7194, 7.1140, 7.0534,  ..., 7.3072, 7.5148, 7.9335],\n",
       "           [7.1268, 7.1495, 7.2398,  ..., 7.5756, 7.0039, 7.5929],\n",
       "           ...,\n",
       "           [7.5045, 7.3439, 7.2525,  ..., 7.7890, 7.9981, 7.3868],\n",
       "           [6.9783, 7.0357, 6.5668,  ..., 7.7287, 7.6267, 7.0294],\n",
       "           [7.1978, 7.4978, 7.0851,  ..., 7.8475, 7.9342, 7.4540]]],\n",
       " \n",
       " \n",
       "         ...,\n",
       " \n",
       " \n",
       "         [[[7.3538, 7.6807, 7.4660,  ..., 8.0146, 7.0802, 7.5703],\n",
       "           [7.7135, 7.1099, 7.0530,  ..., 7.2253, 7.4347, 7.8565],\n",
       "           [7.1249, 7.1465, 7.2382,  ..., 7.5026, 6.9303, 7.5187],\n",
       "           ...,\n",
       "           [7.2313, 7.0530, 7.0082,  ..., 7.5526, 7.7520, 7.1752],\n",
       "           [6.6955, 6.7889, 6.3142,  ..., 7.4932, 7.3994, 6.8138],\n",
       "           [6.9760, 7.2328, 6.7835,  ..., 7.6025, 7.6806, 7.2166]]],\n",
       " \n",
       " \n",
       "         [[[7.2815, 7.6112, 7.3908,  ..., 7.8077, 6.8890, 7.3741],\n",
       "           [7.6315, 7.0356, 6.9818,  ..., 7.0083, 7.2238, 7.6531],\n",
       "           [7.0543, 7.0755, 7.1576,  ..., 7.3097, 6.7328, 7.3284],\n",
       "           ...,\n",
       "           [7.2947, 7.1172, 7.0656,  ..., 7.2172, 7.3812, 6.8566],\n",
       "           [6.7569, 6.8372, 6.3623,  ..., 7.1522, 7.0643, 6.4917],\n",
       "           [7.0202, 7.2944, 6.8467,  ..., 7.2360, 7.2932, 6.8551]]],\n",
       " \n",
       " \n",
       "         [[[7.2256, 7.5573, 7.3347,  ..., 7.7359, 6.8245, 7.3056],\n",
       "           [7.5764, 6.9822, 6.9247,  ..., 6.9356, 7.1539, 7.5827],\n",
       "           [6.9992, 7.0221, 7.0925,  ..., 7.2446, 6.6667, 7.2608],\n",
       "           ...,\n",
       "           [7.1895, 7.0085, 6.9737,  ..., 7.1441, 7.3035, 6.7899],\n",
       "           [6.6505, 6.7448, 6.2687,  ..., 7.0779, 6.9912, 6.4216],\n",
       "           [6.9349, 7.1938, 6.7375,  ..., 7.1560, 7.2095, 6.7787]]]]),\n",
       " tensor([[[[7.2385, 7.5704, 7.3483,  ..., 7.8324, 6.9160, 7.3996],\n",
       "           [7.5871, 6.9952, 6.9396,  ..., 7.0379, 7.2523, 7.6805],\n",
       "           [7.0145, 7.0359, 7.1104,  ..., 7.3353, 6.7609, 7.3484],\n",
       "           ...,\n",
       "           [7.3173, 7.1441, 7.0856,  ..., 7.4601, 7.6496, 7.0821],\n",
       "           [6.7833, 6.8640, 6.3914,  ..., 7.3961, 7.3037, 6.7233],\n",
       "           [7.0432, 7.3168, 6.8763,  ..., 7.4980, 7.5719, 7.1133]]],\n",
       " \n",
       " \n",
       "         [[[6.9197, 7.2590, 7.0150,  ..., 7.6259, 6.7274, 7.2064],\n",
       "           [7.2412, 6.6703, 6.6222,  ..., 6.8242, 7.0454, 7.4795],\n",
       "           [6.7014, 6.7217, 6.7435,  ..., 7.1441, 6.5655, 7.1584],\n",
       "           ...,\n",
       "           [7.1507, 6.9513, 6.9234,  ..., 7.0855, 7.2375, 6.7222],\n",
       "           [6.6032, 6.7040, 6.2261,  ..., 7.0139, 6.9295, 6.3594],\n",
       "           [6.9157, 7.1486, 6.6644,  ..., 7.0792, 7.1385, 6.7049]]],\n",
       " \n",
       " \n",
       "         [[[7.0040, 7.3416, 7.1054,  ..., 7.4513, 6.5775, 7.0387],\n",
       "           [7.3326, 6.7606, 6.7060,  ..., 6.6567, 6.8842, 7.3112],\n",
       "           [6.7876, 6.8081, 6.8461,  ..., 6.9907, 6.4141, 6.9876],\n",
       "           ...,\n",
       "           [6.8688, 6.6625, 6.6746,  ..., 7.0542, 7.2051, 6.6976],\n",
       "           [6.3207, 6.4468, 5.9697,  ..., 6.9835, 6.8993, 6.3316],\n",
       "           [6.6822, 6.8789, 6.3767,  ..., 7.0502, 7.1051, 6.6762]]],\n",
       " \n",
       " \n",
       "         ...,\n",
       " \n",
       " \n",
       "         [[[6.3862, 6.7100, 6.4591,  ..., 5.9949, 5.2674, 5.6510],\n",
       "           [6.6523, 6.1244, 6.0822,  ..., 5.2059, 5.4963, 5.8820],\n",
       "           [6.1870, 6.2023, 6.1507,  ..., 5.6274, 5.0823, 5.6147],\n",
       "           ...,\n",
       "           [5.7977, 5.5696, 5.7147,  ..., 6.1383, 6.2881, 5.8875],\n",
       "           [5.2696, 5.4475, 5.0253,  ..., 6.0893, 5.9976, 5.4639],\n",
       "           [5.8128, 5.8272, 5.2882,  ..., 6.0845, 6.1249, 5.7792]]],\n",
       " \n",
       " \n",
       "         [[[5.9754, 6.2794, 6.0249,  ..., 6.0783, 5.3391, 5.7500],\n",
       "           [6.1914, 5.6957, 5.6572,  ..., 5.2835, 5.5791, 5.9787],\n",
       "           [5.7829, 5.7996, 5.6930,  ..., 5.7107, 5.1560, 5.7125],\n",
       "           ...,\n",
       "           [6.3394, 6.1129, 6.1964,  ..., 6.0458, 6.2133, 5.8229],\n",
       "           [5.7909, 5.9620, 5.5029,  ..., 6.0096, 5.8959, 5.3806],\n",
       "           [6.2590, 6.3542, 5.8281,  ..., 6.0106, 6.0422, 5.7166]]],\n",
       " \n",
       " \n",
       "         [[[6.3115, 6.6317, 6.3789,  ..., 6.4815, 5.6853, 6.1319],\n",
       "           [6.5664, 6.0464, 6.0047,  ..., 5.6695, 5.9412, 6.3663],\n",
       "           [6.1138, 6.1283, 6.0683,  ..., 6.0692, 5.5059, 6.1005],\n",
       "           ...,\n",
       "           [6.8304, 6.6184, 6.6445,  ..., 6.7925, 7.0125, 6.4507],\n",
       "           [6.2769, 6.4132, 5.9351,  ..., 6.7323, 6.6554, 6.0803],\n",
       "           [6.6462, 6.8373, 6.3334,  ..., 6.7721, 6.8693, 6.4414]]]]),\n",
       " tensor([[[[ 6.2062,  6.5279,  6.2736,  ...,  6.9912,  6.1572,  6.6191],\n",
       "           [ 6.4647,  5.9457,  5.9037,  ...,  6.1809,  6.4310,  6.8734],\n",
       "           [ 6.0169,  6.0294,  5.9477,  ...,  6.5602,  5.9811,  6.5721],\n",
       "           ...,\n",
       "           [ 6.2827,  6.0370,  6.1256,  ...,  6.5890,  6.7045,  6.2703],\n",
       "           [ 5.7287,  5.8871,  5.4335,  ...,  6.5129,  6.4303,  5.8800],\n",
       "           [ 6.2183,  6.2946,  5.7429,  ...,  6.5427,  6.5723,  6.1857]]],\n",
       " \n",
       " \n",
       "         [[[ 6.2888,  6.6183,  6.3556,  ...,  5.3752,  4.7162,  5.0724],\n",
       "           [ 6.5499,  6.0220,  5.9841,  ...,  4.6106,  4.9261,  5.2793],\n",
       "           [ 6.0872,  6.1045,  6.0331,  ...,  5.0421,  4.5370,  5.0311],\n",
       "           ...,\n",
       "           [ 5.5636,  5.3268,  5.4938,  ...,  6.0883,  6.2207,  5.8215],\n",
       "           [ 5.0424,  5.2208,  4.8008,  ...,  6.0276,  5.9431,  5.4132],\n",
       "           [ 5.6008,  5.5968,  5.0949,  ...,  6.0210,  6.0537,  5.7029]]],\n",
       " \n",
       " \n",
       "         [[[ 4.0909,  4.2708,  4.0923,  ...,  4.4409,  3.9139,  4.1660],\n",
       "           [ 4.1643,  3.8187,  3.7453,  ...,  3.7409,  4.0681,  4.3499],\n",
       "           [ 3.9536,  3.9759,  3.7001,  ...,  4.1810,  3.7317,  4.1096],\n",
       "           ...,\n",
       "           [ 6.1225,  5.8551,  5.9611,  ...,  6.4049,  6.5430,  6.1055],\n",
       "           [ 5.5671,  5.7142,  5.2823,  ...,  6.3360,  6.2531,  5.7113],\n",
       "           [ 6.0990,  6.1310,  5.5546,  ...,  6.3488,  6.3900,  6.0155]]],\n",
       " \n",
       " \n",
       "         ...,\n",
       " \n",
       " \n",
       "         [[[ 5.7373,  6.0230,  5.7685,  ...,  5.2256,  4.5852,  4.9231],\n",
       "           [ 5.9156,  5.4344,  5.4071,  ...,  4.4692,  4.7846,  5.1251],\n",
       "           [ 5.5429,  5.5606,  5.4303,  ...,  4.8977,  4.4051,  4.8797],\n",
       "           ...,\n",
       "           [ 5.6116,  5.3475,  5.4947,  ...,  2.7645,  2.6649,  2.7145],\n",
       "           [ 5.0762,  5.2317,  4.8433,  ...,  2.7214,  2.6221,  2.3503],\n",
       "           [ 5.6852,  5.6234,  5.0746,  ...,  2.6608,  2.4708,  2.3857]]],\n",
       " \n",
       " \n",
       "         [[[ 0.6551,  0.7050,  0.6340,  ..., -0.5231, -0.3955, -0.6093],\n",
       "           [ 0.6597,  0.5435,  0.5202,  ..., -0.5948, -0.5522, -0.6448],\n",
       "           [ 0.6392,  0.6474,  0.4537,  ..., -0.4928, -0.5877, -0.6471],\n",
       "           ...,\n",
       "           [ 6.9216,  6.7085,  6.7224,  ...,  3.6675,  3.6532,  3.5928],\n",
       "           [ 6.3656,  6.5067,  6.0271,  ...,  3.6361,  3.5164,  3.1907],\n",
       "           [ 6.7347,  6.9182,  6.4173,  ...,  3.5807,  3.4309,  3.2868]]],\n",
       " \n",
       " \n",
       "         [[[-4.6816, -4.7122, -4.6206,  ..., -6.5519, -5.7197, -6.2941],\n",
       "           [-4.6327, -4.4387, -4.2176,  ..., -5.7450, -5.9675, -6.6584],\n",
       "           [-4.4445, -4.4142, -4.3102,  ..., -6.1256, -5.6506, -6.3294],\n",
       "           ...,\n",
       "           [-2.5801, -2.4979, -2.6510,  ..., -5.9611, -6.1129, -5.7255],\n",
       "           [-2.1587, -2.3243, -2.0578,  ..., -5.8464, -5.7369, -5.3504],\n",
       "           [-2.6687, -2.5485, -2.3135,  ..., -5.8505, -6.0633, -5.6743]]]])]"
      ]
     },
     "execution_count": 24,
     "metadata": {},
     "output_type": "execute_result"
    }
   ],
   "source": [
    "predict"
   ]
  },
  {
   "cell_type": "code",
   "execution_count": 33,
   "id": "dc62ccea-2515-46e0-a578-8468d941ba70",
   "metadata": {},
   "outputs": [],
   "source": [
    "srcnn = SRCNN(\n",
    "    n_channels=1,\n",
    "    upscale_factor=args.upscale_factor\n",
    ")"
   ]
  },
  {
   "cell_type": "code",
   "execution_count": 34,
   "id": "dc40ebc0-249d-439e-9ce9-8302dfb97e09",
   "metadata": {},
   "outputs": [
    {
     "data": {
      "text/plain": [
       "SRCNN(\n",
       "  (model): Sequential(\n",
       "    (0): Conv2d(1, 64, kernel_size=(9, 9), stride=(1, 1), padding=(4, 4))\n",
       "    (1): ReLU()\n",
       "    (2): Conv2d(64, 32, kernel_size=(5, 5), stride=(1, 1), padding=(2, 2))\n",
       "    (3): ReLU()\n",
       "    (4): Conv2d(32, 1, kernel_size=(5, 5), stride=(1, 1), padding=(2, 2))\n",
       "  )\n",
       "  (loss): MeanSquaredError()\n",
       ")"
      ]
     },
     "execution_count": 34,
     "metadata": {},
     "output_type": "execute_result"
    }
   ],
   "source": [
    "srcnn.configure(\n",
    "    optimizer = torch.optim.AdamW(params=espcn.parameters(), lr=args.lr),\n",
    "    scheduler = None,\n",
    "    loss = torchmetrics.MeanSquaredError(squared=False),\n",
    "    logdir = args.logdir,\n",
    ")"
   ]
  },
  {
   "cell_type": "code",
   "execution_count": null,
   "id": "bdfb1f8a-e6eb-4bb7-8b62-bacadf6033e0",
   "metadata": {
    "scrolled": true
   },
   "outputs": [],
   "source": [
    "srcnn.fit(rekis_train, rekis_dev, args.epochs)"
   ]
  },
  {
   "cell_type": "code",
   "execution_count": 42,
   "id": "fe54a3b1-b189-46f2-be36-dcebb548c54a",
   "metadata": {},
   "outputs": [],
   "source": [
    "### perhaps option for non-configurable models?"
   ]
  },
  {
   "cell_type": "code",
   "execution_count": 37,
   "id": "fe099640-ab47-40ce-a749-d9ad0e367e7c",
   "metadata": {},
   "outputs": [],
   "source": [
    "bicubic = Bicubic(\n",
    "    upscale_factor=args.upscale_factor\n",
    ")"
   ]
  },
  {
   "cell_type": "code",
   "execution_count": 40,
   "id": "bc1439b4-d53c-4f1c-8f17-bfa793d74e30",
   "metadata": {},
   "outputs": [
    {
     "data": {
      "text/plain": [
       "Bicubic(\n",
       "  (loss): MeanSquaredError()\n",
       ")"
      ]
     },
     "execution_count": 40,
     "metadata": {},
     "output_type": "execute_result"
    }
   ],
   "source": [
    "bicubic.configure(\n",
    "    optimizer = torch.optim.AdamW(params=espcn.parameters(), lr=args.lr),\n",
    "    scheduler = None,\n",
    "    loss = torchmetrics.MeanSquaredError(squared=False),\n",
    "    logdir = args.logdir,\n",
    ")"
   ]
  },
  {
   "cell_type": "code",
   "execution_count": null,
   "id": "5ec5b244-1700-41c0-b182-840c5f0a4ac0",
   "metadata": {
    "scrolled": true
   },
   "outputs": [],
   "source": [
    "bicubic.fit(rekis_train, rekis_dev, args.epochs)"
   ]
  },
  {
   "cell_type": "code",
   "execution_count": 45,
   "id": "3f3b7df1-2b63-4ce4-8d8b-be35cf51eb1c",
   "metadata": {},
   "outputs": [],
   "source": [
    "fno = FNO(\n",
    "    n_channels=1,\n",
    "    upscale_factor=args.upscale_factor\n",
    ")"
   ]
  },
  {
   "cell_type": "code",
   "execution_count": 46,
   "id": "54fa29df-9a31-481b-a719-5e0cfc29ef80",
   "metadata": {},
   "outputs": [
    {
     "data": {
      "text/plain": [
       "FNO(\n",
       "  (P): Linear(in_features=1, out_features=32, bias=True)\n",
       "  (spectral_convs): ModuleList(\n",
       "    (0-3): 4 x SpectralConv2d()\n",
       "  )\n",
       "  (weights): ModuleList(\n",
       "    (0-3): 4 x Conv2d(32, 32, kernel_size=(1, 1), stride=(1, 1))\n",
       "  )\n",
       "  (Q): Linear(in_features=32, out_features=1, bias=True)\n",
       "  (loss): MeanSquaredError()\n",
       ")"
      ]
     },
     "execution_count": 46,
     "metadata": {},
     "output_type": "execute_result"
    }
   ],
   "source": [
    "fno.configure(\n",
    "    optimizer = torch.optim.AdamW(params=espcn.parameters(), lr=args.lr),\n",
    "    scheduler = None,\n",
    "    loss = torchmetrics.MeanSquaredError(squared=False),\n",
    "    logdir = args.logdir,\n",
    ")"
   ]
  },
  {
   "cell_type": "code",
   "execution_count": null,
   "id": "761e012c-4e50-472b-b134-4e13048d2133",
   "metadata": {
    "scrolled": true
   },
   "outputs": [],
   "source": [
    "fno.fit(rekis_train, rekis_dev, args.epochs)"
   ]
  },
  {
   "cell_type": "markdown",
   "id": "dc5d66cf-dced-4e6d-ac9b-2d71f831eb2c",
   "metadata": {},
   "source": [
    "### CORDEX"
   ]
  },
  {
   "cell_type": "code",
   "execution_count": 25,
   "id": "a838177a-a0da-4967-b8e1-827dec462db9",
   "metadata": {},
   "outputs": [
    {
     "name": "stdout",
     "output_type": "stream",
     "text": [
      "Loading 8 NetCDF file(s)...\n"
     ]
    },
    {
     "ename": "KeyError",
     "evalue": "'TM'",
     "output_type": "error",
     "traceback": [
      "\u001b[0;31m---------------------------------------------------------------------------\u001b[0m",
      "\u001b[0;31mKeyError\u001b[0m                                  Traceback (most recent call last)",
      "File \u001b[0;32m~/downscale/venv/lib/python3.12/site-packages/xarray/core/dataset.py:1355\u001b[0m, in \u001b[0;36mDataset._copy_listed\u001b[0;34m(self, names)\u001b[0m\n\u001b[1;32m   1354\u001b[0m \u001b[38;5;28;01mtry\u001b[39;00m:\n\u001b[0;32m-> 1355\u001b[0m     variables[name] \u001b[38;5;241m=\u001b[39m \u001b[38;5;28;43mself\u001b[39;49m\u001b[38;5;241;43m.\u001b[39;49m\u001b[43m_variables\u001b[49m\u001b[43m[\u001b[49m\u001b[43mname\u001b[49m\u001b[43m]\u001b[49m\n\u001b[1;32m   1356\u001b[0m \u001b[38;5;28;01mexcept\u001b[39;00m \u001b[38;5;167;01mKeyError\u001b[39;00m:\n",
      "\u001b[0;31mKeyError\u001b[0m: 'TM'",
      "\nDuring handling of the above exception, another exception occurred:\n",
      "\u001b[0;31mKeyError\u001b[0m                                  Traceback (most recent call last)",
      "Cell \u001b[0;32mIn[25], line 2\u001b[0m\n\u001b[1;32m      1\u001b[0m \u001b[38;5;66;03m### FIX\u001b[39;00m\n\u001b[0;32m----> 2\u001b[0m cordex \u001b[38;5;241m=\u001b[39m \u001b[43mCORDEX\u001b[49m\u001b[43m(\u001b[49m\n\u001b[1;32m      3\u001b[0m \u001b[43m    \u001b[49m\u001b[43mdata_path\u001b[49m\u001b[38;5;241;43m=\u001b[39;49m\u001b[43mCORDEX_DATA_PATH\u001b[49m\u001b[43m,\u001b[49m\n\u001b[1;32m      4\u001b[0m \u001b[43m    \u001b[49m\u001b[43mvariables\u001b[49m\u001b[38;5;241;43m=\u001b[39;49m\u001b[43margs\u001b[49m\u001b[38;5;241;43m.\u001b[39;49m\u001b[43mvariables\u001b[49m\u001b[43m,\u001b[49m\n\u001b[1;32m      5\u001b[0m \u001b[43m    \u001b[49m\u001b[43mdev_len\u001b[49m\u001b[38;5;241;43m=\u001b[39;49m\u001b[43m(\u001b[49m\u001b[38;5;124;43m\"\u001b[39;49m\u001b[38;5;124;43m2000-01-01\u001b[39;49m\u001b[38;5;124;43m\"\u001b[39;49m\u001b[43m,\u001b[49m\u001b[43m \u001b[49m\u001b[38;5;124;43m\"\u001b[39;49m\u001b[38;5;124;43m2001-01-01\u001b[39;49m\u001b[38;5;124;43m\"\u001b[39;49m\u001b[43m)\u001b[49m\u001b[43m,\u001b[49m\n\u001b[1;32m      6\u001b[0m \u001b[43m    \u001b[49m\u001b[43mtest_len\u001b[49m\u001b[38;5;241;43m=\u001b[39;49m\u001b[43m(\u001b[49m\u001b[38;5;124;43m\"\u001b[39;49m\u001b[38;5;124;43m2001-01-01\u001b[39;49m\u001b[38;5;124;43m\"\u001b[39;49m\u001b[43m,\u001b[49m\u001b[43m \u001b[49m\u001b[38;5;124;43m\"\u001b[39;49m\u001b[38;5;124;43m2002-01-01\u001b[39;49m\u001b[38;5;124;43m\"\u001b[39;49m\u001b[43m)\u001b[49m\u001b[43m,\u001b[49m\n\u001b[1;32m      7\u001b[0m \u001b[43m    \u001b[49m\u001b[43mresampling\u001b[49m\u001b[38;5;241;43m=\u001b[39;49m\u001b[38;5;124;43m\"\u001b[39;49m\u001b[38;5;124;43mcubic_spline\u001b[39;49m\u001b[38;5;124;43m\"\u001b[39;49m\n\u001b[1;32m      8\u001b[0m \u001b[43m)\u001b[49m\n",
      "File \u001b[0;32m~/downscale/venv/lib/python3.12/site-packages/cddlt/datasets/cordex_dataset.py:93\u001b[0m, in \u001b[0;36mCORDEX.__init__\u001b[0;34m(self, data_path, variables, dev_len, test_len, resampling)\u001b[0m\n\u001b[1;32m     88\u001b[0m     \u001b[38;5;28;01massert\u001b[39;00m \u001b[38;5;28mself\u001b[39m\u001b[38;5;241m.\u001b[39m_cmp_time_str(\u001b[38;5;28mself\u001b[39m\u001b[38;5;241m.\u001b[39mRANGE_AVAILABLE[\u001b[38;5;241m1\u001b[39m], end), \\\n\u001b[1;32m     89\u001b[0m         \u001b[38;5;124mf\u001b[39m\u001b[38;5;124m\"\u001b[39m\u001b[38;5;124mEnd date \u001b[39m\u001b[38;5;132;01m{\u001b[39;00mend\u001b[38;5;132;01m}\u001b[39;00m\u001b[38;5;124m must be <= \u001b[39m\u001b[38;5;132;01m{\u001b[39;00m\u001b[38;5;28mself\u001b[39m\u001b[38;5;241m.\u001b[39mRANGE_AVAILABLE[\u001b[38;5;241m1\u001b[39m]\u001b[38;5;132;01m}\u001b[39;00m\u001b[38;5;124m\"\u001b[39m\n\u001b[1;32m     91\u001b[0m \u001b[38;5;28;01mfor\u001b[39;00m dataset, interval \u001b[38;5;129;01min\u001b[39;00m \u001b[38;5;28mzip\u001b[39m(\u001b[38;5;28mself\u001b[39m\u001b[38;5;241m.\u001b[39mSETS_NAMES, intervals):\n\u001b[1;32m     92\u001b[0m     \u001b[38;5;66;03m#dataset_path = Path(data_path) / self.DATASET_NAME\u001b[39;00m\n\u001b[0;32m---> 93\u001b[0m     dataset_obj \u001b[38;5;241m=\u001b[39m \u001b[38;5;28;43mself\u001b[39;49m\u001b[38;5;241;43m.\u001b[39;49m\u001b[43mDataset\u001b[49m\u001b[43m(\u001b[49m\u001b[43mdata_path\u001b[49m\u001b[43m,\u001b[49m\u001b[43m \u001b[49m\u001b[43minterval\u001b[49m\u001b[43m,\u001b[49m\u001b[43m \u001b[49m\u001b[38;5;28;43mself\u001b[39;49m\u001b[38;5;241;43m.\u001b[39;49m\u001b[43mvariables\u001b[49m\u001b[43m)\u001b[49m\n\u001b[1;32m     94\u001b[0m     dataset_obj\u001b[38;5;241m.\u001b[39mconvert_kelvin_to_celsius(\u001b[38;5;28mself\u001b[39m\u001b[38;5;241m.\u001b[39mTEMP_VARIABLES)\n\u001b[1;32m     95\u001b[0m     dataset_obj\u001b[38;5;241m.\u001b[39mreproject(\u001b[38;5;28mself\u001b[39m\u001b[38;5;241m.\u001b[39mREPROJECT_FN(resampling), split_target\u001b[38;5;241m=\u001b[39m\u001b[38;5;28;01mFalse\u001b[39;00m)\n",
      "File \u001b[0;32m~/downscale/venv/lib/python3.12/site-packages/cddlt/datasets/cordex_dataset.py:62\u001b[0m, in \u001b[0;36mCORDEX.Dataset.__init__\u001b[0;34m(self, data_path, interval, variables)\u001b[0m\n\u001b[1;32m     61\u001b[0m \u001b[38;5;28;01mdef\u001b[39;00m \u001b[38;5;21m__init__\u001b[39m(\u001b[38;5;28mself\u001b[39m, data_path: \u001b[38;5;28mstr\u001b[39m, interval: Tuple[\u001b[38;5;28mstr\u001b[39m, \u001b[38;5;28mstr\u001b[39m], variables: List[\u001b[38;5;28mstr\u001b[39m]) \u001b[38;5;241m-\u001b[39m\u001b[38;5;241m>\u001b[39m \u001b[38;5;28;01mNone\u001b[39;00m:\n\u001b[0;32m---> 62\u001b[0m     \u001b[38;5;28;43msuper\u001b[39;49m\u001b[43m(\u001b[49m\u001b[43m)\u001b[49m\u001b[38;5;241;43m.\u001b[39;49m\u001b[38;5;21;43m__init__\u001b[39;49m\u001b[43m(\u001b[49m\u001b[43mdata_path\u001b[49m\u001b[43m,\u001b[49m\u001b[43m \u001b[49m\u001b[43minterval\u001b[49m\u001b[43m,\u001b[49m\u001b[43m \u001b[49m\u001b[43mvariables\u001b[49m\u001b[43m)\u001b[49m\n",
      "File \u001b[0;32m~/downscale/venv/lib/python3.12/site-packages/cddlt/datasets/netcdf_dataset.py:44\u001b[0m, in \u001b[0;36mNetCDFDataset.__init__\u001b[0;34m(self, data_path, interval, variables)\u001b[0m\n\u001b[1;32m     42\u001b[0m \u001b[38;5;28mself\u001b[39m\u001b[38;5;241m.\u001b[39mnc_files \u001b[38;5;241m=\u001b[39m \u001b[38;5;28mself\u001b[39m\u001b[38;5;241m.\u001b[39m_get_nc_files()\n\u001b[1;32m     43\u001b[0m \u001b[38;5;28;01massert\u001b[39;00m \u001b[38;5;28mlen\u001b[39m(\u001b[38;5;28mself\u001b[39m\u001b[38;5;241m.\u001b[39mnc_files) \u001b[38;5;241m>\u001b[39m \u001b[38;5;241m0\u001b[39m, \u001b[38;5;124mf\u001b[39m\u001b[38;5;124m\"\u001b[39m\u001b[38;5;124mNo NetCDF files found in \u001b[39m\u001b[38;5;132;01m{\u001b[39;00mdata_path\u001b[38;5;132;01m}\u001b[39;00m\u001b[38;5;124m\"\u001b[39m\n\u001b[0;32m---> 44\u001b[0m \u001b[38;5;28;43mself\u001b[39;49m\u001b[38;5;241;43m.\u001b[39;49m\u001b[43m_load_data\u001b[49m\u001b[43m(\u001b[49m\u001b[43m)\u001b[49m\n\u001b[1;32m     46\u001b[0m \u001b[38;5;28mself\u001b[39m\u001b[38;5;241m.\u001b[39minputs \u001b[38;5;241m=\u001b[39m \u001b[38;5;28;01mNone\u001b[39;00m\n\u001b[1;32m     47\u001b[0m \u001b[38;5;28mself\u001b[39m\u001b[38;5;241m.\u001b[39mtargets \u001b[38;5;241m=\u001b[39m \u001b[38;5;28;01mNone\u001b[39;00m\n",
      "File \u001b[0;32m~/downscale/venv/lib/python3.12/site-packages/cddlt/datasets/netcdf_dataset.py:119\u001b[0m, in \u001b[0;36mNetCDFDataset._load_data\u001b[0;34m(self)\u001b[0m\n\u001b[1;32m    117\u001b[0m time_mask \u001b[38;5;241m=\u001b[39m ((dataset\u001b[38;5;241m.\u001b[39mtime \u001b[38;5;241m>\u001b[39m\u001b[38;5;241m=\u001b[39m \u001b[38;5;28mself\u001b[39m\u001b[38;5;241m.\u001b[39mstart_date) \u001b[38;5;241m&\u001b[39m (dataset\u001b[38;5;241m.\u001b[39mtime \u001b[38;5;241m<\u001b[39m \u001b[38;5;28mself\u001b[39m\u001b[38;5;241m.\u001b[39mend_date))\n\u001b[1;32m    118\u001b[0m filtered_ds \u001b[38;5;241m=\u001b[39m dataset\u001b[38;5;241m.\u001b[39msel(time\u001b[38;5;241m=\u001b[39mtime_mask)\n\u001b[0;32m--> 119\u001b[0m filtered_ds \u001b[38;5;241m=\u001b[39m \u001b[43mfiltered_ds\u001b[49m\u001b[43m[\u001b[49m\u001b[38;5;28;43mself\u001b[39;49m\u001b[38;5;241;43m.\u001b[39;49m\u001b[43mvariables\u001b[49m\u001b[43m]\u001b[49m\n\u001b[1;32m    121\u001b[0m \u001b[38;5;28;01mif\u001b[39;00m \u001b[38;5;28mlen\u001b[39m(filtered_ds\u001b[38;5;241m.\u001b[39mtime) \u001b[38;5;241m==\u001b[39m \u001b[38;5;241m0\u001b[39m:\n\u001b[1;32m    122\u001b[0m     \u001b[38;5;28;01mraise\u001b[39;00m \u001b[38;5;167;01mValueError\u001b[39;00m(\u001b[38;5;124mf\u001b[39m\u001b[38;5;124m\"\u001b[39m\u001b[38;5;124mNo data found for dates \u001b[39m\u001b[38;5;132;01m{\u001b[39;00m\u001b[38;5;28mself\u001b[39m\u001b[38;5;241m.\u001b[39mstart_date\u001b[38;5;132;01m}\u001b[39;00m\u001b[38;5;124m-\u001b[39m\u001b[38;5;132;01m{\u001b[39;00m\u001b[38;5;28mself\u001b[39m\u001b[38;5;241m.\u001b[39mend_date\u001b[38;5;132;01m}\u001b[39;00m\u001b[38;5;124m\"\u001b[39m)\n",
      "File \u001b[0;32m~/downscale/venv/lib/python3.12/site-packages/xarray/core/dataset.py:1486\u001b[0m, in \u001b[0;36mDataset.__getitem__\u001b[0;34m(self, key)\u001b[0m\n\u001b[1;32m   1484\u001b[0m     \u001b[38;5;28;01mreturn\u001b[39;00m \u001b[38;5;28mself\u001b[39m\u001b[38;5;241m.\u001b[39m_construct_dataarray(key)\n\u001b[1;32m   1485\u001b[0m \u001b[38;5;28;01mif\u001b[39;00m utils\u001b[38;5;241m.\u001b[39miterable_of_hashable(key):\n\u001b[0;32m-> 1486\u001b[0m     \u001b[38;5;28;01mreturn\u001b[39;00m \u001b[38;5;28;43mself\u001b[39;49m\u001b[38;5;241;43m.\u001b[39;49m\u001b[43m_copy_listed\u001b[49m\u001b[43m(\u001b[49m\u001b[43mkey\u001b[49m\u001b[43m)\u001b[49m\n\u001b[1;32m   1487\u001b[0m \u001b[38;5;28;01mraise\u001b[39;00m \u001b[38;5;167;01mValueError\u001b[39;00m(\u001b[38;5;124mf\u001b[39m\u001b[38;5;124m\"\u001b[39m\u001b[38;5;124mUnsupported key-type \u001b[39m\u001b[38;5;132;01m{\u001b[39;00m\u001b[38;5;28mtype\u001b[39m(key)\u001b[38;5;132;01m}\u001b[39;00m\u001b[38;5;124m\"\u001b[39m)\n",
      "File \u001b[0;32m~/downscale/venv/lib/python3.12/site-packages/xarray/core/dataset.py:1357\u001b[0m, in \u001b[0;36mDataset._copy_listed\u001b[0;34m(self, names)\u001b[0m\n\u001b[1;32m   1355\u001b[0m     variables[name] \u001b[38;5;241m=\u001b[39m \u001b[38;5;28mself\u001b[39m\u001b[38;5;241m.\u001b[39m_variables[name]\n\u001b[1;32m   1356\u001b[0m \u001b[38;5;28;01mexcept\u001b[39;00m \u001b[38;5;167;01mKeyError\u001b[39;00m:\n\u001b[0;32m-> 1357\u001b[0m     ref_name, var_name, var \u001b[38;5;241m=\u001b[39m \u001b[43m_get_virtual_variable\u001b[49m\u001b[43m(\u001b[49m\n\u001b[1;32m   1358\u001b[0m \u001b[43m        \u001b[49m\u001b[38;5;28;43mself\u001b[39;49m\u001b[38;5;241;43m.\u001b[39;49m\u001b[43m_variables\u001b[49m\u001b[43m,\u001b[49m\u001b[43m \u001b[49m\u001b[43mname\u001b[49m\u001b[43m,\u001b[49m\u001b[43m \u001b[49m\u001b[38;5;28;43mself\u001b[39;49m\u001b[38;5;241;43m.\u001b[39;49m\u001b[43mdims\u001b[49m\n\u001b[1;32m   1359\u001b[0m \u001b[43m    \u001b[49m\u001b[43m)\u001b[49m\n\u001b[1;32m   1360\u001b[0m     variables[var_name] \u001b[38;5;241m=\u001b[39m var\n\u001b[1;32m   1361\u001b[0m     \u001b[38;5;28;01mif\u001b[39;00m ref_name \u001b[38;5;129;01min\u001b[39;00m \u001b[38;5;28mself\u001b[39m\u001b[38;5;241m.\u001b[39m_coord_names \u001b[38;5;129;01mor\u001b[39;00m ref_name \u001b[38;5;129;01min\u001b[39;00m \u001b[38;5;28mself\u001b[39m\u001b[38;5;241m.\u001b[39mdims:\n",
      "File \u001b[0;32m~/downscale/venv/lib/python3.12/site-packages/xarray/core/dataset.py:196\u001b[0m, in \u001b[0;36m_get_virtual_variable\u001b[0;34m(variables, key, dim_sizes)\u001b[0m\n\u001b[1;32m    194\u001b[0m split_key \u001b[38;5;241m=\u001b[39m key\u001b[38;5;241m.\u001b[39msplit(\u001b[38;5;124m\"\u001b[39m\u001b[38;5;124m.\u001b[39m\u001b[38;5;124m\"\u001b[39m, \u001b[38;5;241m1\u001b[39m)\n\u001b[1;32m    195\u001b[0m \u001b[38;5;28;01mif\u001b[39;00m \u001b[38;5;28mlen\u001b[39m(split_key) \u001b[38;5;241m!=\u001b[39m \u001b[38;5;241m2\u001b[39m:\n\u001b[0;32m--> 196\u001b[0m     \u001b[38;5;28;01mraise\u001b[39;00m \u001b[38;5;167;01mKeyError\u001b[39;00m(key)\n\u001b[1;32m    198\u001b[0m ref_name, var_name \u001b[38;5;241m=\u001b[39m split_key\n\u001b[1;32m    199\u001b[0m ref_var \u001b[38;5;241m=\u001b[39m variables[ref_name]\n",
      "\u001b[0;31mKeyError\u001b[0m: 'TM'"
     ]
    }
   ],
   "source": [
    "### FIX\n",
    "cordex = CORDEX(\n",
    "    data_path=CORDEX_DATA_PATH,\n",
    "    variables=args.variables,\n",
    "    dev_len=(\"2000-01-01\", \"2001-01-01\"),\n",
    "    test_len=(\"2001-01-01\", \"2002-01-01\"),\n",
    "    resampling=\"cubic_spline\"\n",
    ")"
   ]
  },
  {
   "cell_type": "code",
   "execution_count": null,
   "id": "5b5d7280-1d45-4d52-a831-56620e646083",
   "metadata": {},
   "outputs": [],
   "source": []
  }
 ],
 "metadata": {
  "kernelspec": {
   "display_name": "Python (venv)",
   "language": "python",
   "name": "venv"
  },
  "language_info": {
   "codemirror_mode": {
    "name": "ipython",
    "version": 3
   },
   "file_extension": ".py",
   "mimetype": "text/x-python",
   "name": "python",
   "nbconvert_exporter": "python",
   "pygments_lexer": "ipython3",
   "version": "3.12.3"
  }
 },
 "nbformat": 4,
 "nbformat_minor": 5
}
