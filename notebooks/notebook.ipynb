{
 "cells": [
  {
   "cell_type": "markdown",
   "id": "46eced55-4777-4dca-b23f-4e9ec5b43de8",
   "metadata": {},
   "source": [
    "### Climate downscaling using CDDLT package"
   ]
  },
  {
   "cell_type": "code",
   "execution_count": null,
   "id": "a812e75e-69a8-4a51-92b1-d1252e69bb32",
   "metadata": {
    "scrolled": true
   },
   "outputs": [],
   "source": [
    "# !pip install --index-url https://test.pypi.org/simple/ \\\n",
    "#              --extra-index-url https://pypi.org/simple \\\n",
    "#              cddlt --quiet"
   ]
  },
  {
   "cell_type": "code",
   "execution_count": 36,
   "id": "1afdbb63-fcd4-4de3-bff9-9be6092ebf1e",
   "metadata": {},
   "outputs": [],
   "source": [
    "import os\n",
    "import argparse\n",
    "import torch\n",
    "import torchmetrics\n",
    "import cddlt\n",
    "\n",
    "from cddlt.datasets.rekis_dataset import ReKIS\n",
    "from cddlt.datasets.cordex_dataset import CORDEX\n",
    "from cddlt.dataloaders.downscaling_transform import DownscalingTransform\n",
    "\n",
    "from cddlt.models.espcn import ESPCN\n",
    "from cddlt.models.srcnn import SRCNN\n",
    "from cddlt.models.bicubic import Bicubic\n",
    "from cddlt.models.fno import FNO"
   ]
  },
  {
   "cell_type": "code",
   "execution_count": 29,
   "id": "b75e72ad-611c-485b-a24c-5ee378ed78a5",
   "metadata": {},
   "outputs": [
    {
     "data": {
      "text/plain": [
       "_StoreAction(option_strings=['--variables'], dest='variables', nargs=None, const=None, default=['TM'], type=<class 'list'>, choices=None, required=False, help=None, metavar=None)"
      ]
     },
     "execution_count": 29,
     "metadata": {},
     "output_type": "execute_result"
    }
   ],
   "source": [
    "parser = argparse.ArgumentParser()\n",
    "parser.add_argument(\"--batch_size\", default=8, type=int)\n",
    "parser.add_argument(\"--epochs\", default=2, type=int)\n",
    "parser.add_argument(\"--seed\", default=42, type=int)\n",
    "parser.add_argument(\"--threads\", default=4, type=int)\n",
    "parser.add_argument(\"--upscale_factor\", default=10, type=int)\n",
    "parser.add_argument(\"--lr\", default=0.001, type=float)\n",
    "parser.add_argument(\"--logdir\", default=\"logs\", type=str)\n",
    "parser.add_argument(\"--variables\", default=[\"TM\"], type=list)"
   ]
  },
  {
   "cell_type": "code",
   "execution_count": 18,
   "id": "3145ce2a-281b-4330-a7b8-fa6dffda3798",
   "metadata": {},
   "outputs": [],
   "source": [
    "args = parser.parse_args([])\n",
    "cddlt.startup(args, os.path.basename(\"notebook.ipynb\"))"
   ]
  },
  {
   "cell_type": "code",
   "execution_count": 30,
   "id": "6cdaef92-a171-4176-a276-fc8403857d4a",
   "metadata": {},
   "outputs": [],
   "source": [
    "REKIS_DATA_PATH = \"/home/kostape4/ReKIS/KlimRefDS_v3.1_1961-2023/Raster/Tag/GK4/TM/\"\n",
    "CORDEX_DATA_PATH = \"/home/kostape4/CORDEX/tas/GERICS_REMO2015\""
   ]
  },
  {
   "cell_type": "markdown",
   "id": "98cda3dc-fe35-4c8a-9901-57fecbd371fc",
   "metadata": {},
   "source": [
    "### ReKIS"
   ]
  },
  {
   "cell_type": "code",
   "execution_count": 7,
   "id": "06b503d1-6f3e-4932-9f43-a5d44dc56184",
   "metadata": {
    "scrolled": true
   },
   "outputs": [
    {
     "name": "stdout",
     "output_type": "stream",
     "text": [
      "Loading 63 NetCDF file(s)...\n",
      "Loaded data shape: {'easting': 418, 'northing': 401, 'time': 31}\n",
      "Time range: 2000-01-01 00:00:00 to 2000-01-31 00:00:00\n",
      "Variables in dataset: ['TM']\n",
      "Pre reproject shape:\n",
      "TM: (31, 400, 400)\n",
      "Inputs shape:\n",
      "TM: (31, 40, 40)\n",
      "Targets shape:\n",
      "TM: (31, 400, 400)\n",
      "Loading 63 NetCDF file(s)...\n",
      "Loaded data shape: {'easting': 418, 'northing': 401, 'time': 29}\n",
      "Time range: 2000-02-01 00:00:00 to 2000-02-29 00:00:00\n",
      "Variables in dataset: ['TM']\n",
      "Pre reproject shape:\n",
      "TM: (29, 400, 400)\n",
      "Inputs shape:\n",
      "TM: (29, 40, 40)\n",
      "Targets shape:\n",
      "TM: (29, 400, 400)\n",
      "Loading 63 NetCDF file(s)...\n",
      "Loaded data shape: {'easting': 418, 'northing': 401, 'time': 31}\n",
      "Time range: 2000-03-01 00:00:00 to 2000-03-31 00:00:00\n",
      "Variables in dataset: ['TM']\n",
      "Pre reproject shape:\n",
      "TM: (31, 400, 400)\n",
      "Inputs shape:\n",
      "TM: (31, 40, 40)\n",
      "Targets shape:\n",
      "TM: (31, 400, 400)\n",
      "ReKIS dataset initalized.\n",
      "train size: (29)\n",
      "dev size: (31)\n",
      "test size: (31)\n"
     ]
    }
   ],
   "source": [
    "rekis = ReKIS(\n",
    "    data_path=REKIS_DATA_PATH,\n",
    "    variables=args.variables,\n",
    "    train_len=(\"2000-01-01\", \"2000-02-01\"),\n",
    "    dev_len=(\"2000-02-01\", \"2000-03-01\"),\n",
    "    test_len=(\"2000-03-01\", \"2000-04-01\"), ## value framework input\n",
    "    resampling=\"cubic_spline\"\n",
    ")"
   ]
  },
  {
   "cell_type": "code",
   "execution_count": 14,
   "id": "b43f25dd-7798-44d6-ae27-58f0002807ce",
   "metadata": {},
   "outputs": [],
   "source": [
    "rekis_train = DownscalingTransform(dataset=rekis.train).dataloader(args.batch_size, shuffle=True)\n",
    "rekis_dev = DownscalingTransform(dataset=rekis.dev).dataloader(args.batch_size)"
   ]
  },
  {
   "cell_type": "markdown",
   "id": "85617908-76b5-4b4f-aae4-1ff4843284fd",
   "metadata": {},
   "source": [
    "### Models"
   ]
  },
  {
   "cell_type": "code",
   "execution_count": 19,
   "id": "57d1b8d5-a07e-4f1b-a164-807ce958c28e",
   "metadata": {},
   "outputs": [],
   "source": [
    "espcn = ESPCN(\n",
    "    n_channels=1,\n",
    "    upscale_factor=args.upscale_factor\n",
    ")"
   ]
  },
  {
   "cell_type": "code",
   "execution_count": 24,
   "id": "8da2a3f6-d0fe-484e-9138-ee03bb29b4b1",
   "metadata": {},
   "outputs": [
    {
     "data": {
      "text/plain": [
       "ESPCN(\n",
       "  (model): Sequential(\n",
       "    (0): Conv2d(1, 64, kernel_size=(5, 5), stride=(1, 1), padding=(2, 2))\n",
       "    (1): Tanh()\n",
       "    (2): Conv2d(64, 32, kernel_size=(3, 3), stride=(1, 1), padding=(1, 1))\n",
       "    (3): Tanh()\n",
       "    (4): Conv2d(32, 100, kernel_size=(3, 3), stride=(1, 1), padding=(1, 1))\n",
       "    (5): PixelShuffle(upscale_factor=10)\n",
       "  )\n",
       "  (loss): MeanSquaredError()\n",
       ")"
      ]
     },
     "execution_count": 24,
     "metadata": {},
     "output_type": "execute_result"
    }
   ],
   "source": [
    "espcn.configure(\n",
    "    optimizer = torch.optim.AdamW(params=espcn.parameters(), lr=args.lr),\n",
    "    scheduler = None,\n",
    "    loss = torchmetrics.MeanSquaredError(squared=False),\n",
    "    logdir = args.logdir,\n",
    ")"
   ]
  },
  {
   "cell_type": "code",
   "execution_count": null,
   "id": "13b7644a-a174-4351-bca3-24a79fa5de50",
   "metadata": {
    "scrolled": true
   },
   "outputs": [],
   "source": [
    "espcn.fit(rekis_train, rekis_dev, args.epochs)"
   ]
  },
  {
   "cell_type": "code",
   "execution_count": 33,
   "id": "dc62ccea-2515-46e0-a578-8468d941ba70",
   "metadata": {},
   "outputs": [],
   "source": [
    "srcnn = SRCNN(\n",
    "    n_channels=1,\n",
    "    upscale_factor=args.upscale_factor\n",
    ")"
   ]
  },
  {
   "cell_type": "code",
   "execution_count": 34,
   "id": "dc40ebc0-249d-439e-9ce9-8302dfb97e09",
   "metadata": {},
   "outputs": [
    {
     "data": {
      "text/plain": [
       "SRCNN(\n",
       "  (model): Sequential(\n",
       "    (0): Conv2d(1, 64, kernel_size=(9, 9), stride=(1, 1), padding=(4, 4))\n",
       "    (1): ReLU()\n",
       "    (2): Conv2d(64, 32, kernel_size=(5, 5), stride=(1, 1), padding=(2, 2))\n",
       "    (3): ReLU()\n",
       "    (4): Conv2d(32, 1, kernel_size=(5, 5), stride=(1, 1), padding=(2, 2))\n",
       "  )\n",
       "  (loss): MeanSquaredError()\n",
       ")"
      ]
     },
     "execution_count": 34,
     "metadata": {},
     "output_type": "execute_result"
    }
   ],
   "source": [
    "srcnn.configure(\n",
    "    optimizer = torch.optim.AdamW(params=espcn.parameters(), lr=args.lr),\n",
    "    scheduler = None,\n",
    "    loss = torchmetrics.MeanSquaredError(squared=False),\n",
    "    logdir = args.logdir,\n",
    ")"
   ]
  },
  {
   "cell_type": "code",
   "execution_count": null,
   "id": "bdfb1f8a-e6eb-4bb7-8b62-bacadf6033e0",
   "metadata": {
    "scrolled": true
   },
   "outputs": [],
   "source": [
    "srcnn.fit(rekis_train, rekis_dev, args.epochs)"
   ]
  },
  {
   "cell_type": "code",
   "execution_count": 42,
   "id": "fe54a3b1-b189-46f2-be36-dcebb548c54a",
   "metadata": {},
   "outputs": [],
   "source": [
    "### perhaps option for non-configurable models?"
   ]
  },
  {
   "cell_type": "code",
   "execution_count": 37,
   "id": "fe099640-ab47-40ce-a749-d9ad0e367e7c",
   "metadata": {},
   "outputs": [],
   "source": [
    "bicubic = Bicubic(\n",
    "    upscale_factor=args.upscale_factor\n",
    ")"
   ]
  },
  {
   "cell_type": "code",
   "execution_count": 40,
   "id": "bc1439b4-d53c-4f1c-8f17-bfa793d74e30",
   "metadata": {},
   "outputs": [
    {
     "data": {
      "text/plain": [
       "Bicubic(\n",
       "  (loss): MeanSquaredError()\n",
       ")"
      ]
     },
     "execution_count": 40,
     "metadata": {},
     "output_type": "execute_result"
    }
   ],
   "source": [
    "bicubic.configure(\n",
    "    optimizer = torch.optim.AdamW(params=espcn.parameters(), lr=args.lr),\n",
    "    scheduler = None,\n",
    "    loss = torchmetrics.MeanSquaredError(squared=False),\n",
    "    logdir = args.logdir,\n",
    ")"
   ]
  },
  {
   "cell_type": "code",
   "execution_count": null,
   "id": "5ec5b244-1700-41c0-b182-840c5f0a4ac0",
   "metadata": {
    "scrolled": true
   },
   "outputs": [],
   "source": [
    "bicubic.fit(rekis_train, rekis_dev, args.epochs)"
   ]
  },
  {
   "cell_type": "code",
   "execution_count": 45,
   "id": "3f3b7df1-2b63-4ce4-8d8b-be35cf51eb1c",
   "metadata": {},
   "outputs": [],
   "source": [
    "fno = FNO(\n",
    "    n_channels=1,\n",
    "    upscale_factor=args.upscale_factor\n",
    ")"
   ]
  },
  {
   "cell_type": "code",
   "execution_count": 46,
   "id": "54fa29df-9a31-481b-a719-5e0cfc29ef80",
   "metadata": {},
   "outputs": [
    {
     "data": {
      "text/plain": [
       "FNO(\n",
       "  (P): Linear(in_features=1, out_features=32, bias=True)\n",
       "  (spectral_convs): ModuleList(\n",
       "    (0-3): 4 x SpectralConv2d()\n",
       "  )\n",
       "  (weights): ModuleList(\n",
       "    (0-3): 4 x Conv2d(32, 32, kernel_size=(1, 1), stride=(1, 1))\n",
       "  )\n",
       "  (Q): Linear(in_features=32, out_features=1, bias=True)\n",
       "  (loss): MeanSquaredError()\n",
       ")"
      ]
     },
     "execution_count": 46,
     "metadata": {},
     "output_type": "execute_result"
    }
   ],
   "source": [
    "fno.configure(\n",
    "    optimizer = torch.optim.AdamW(params=espcn.parameters(), lr=args.lr),\n",
    "    scheduler = None,\n",
    "    loss = torchmetrics.MeanSquaredError(squared=False),\n",
    "    logdir = args.logdir,\n",
    ")"
   ]
  },
  {
   "cell_type": "code",
   "execution_count": null,
   "id": "761e012c-4e50-472b-b134-4e13048d2133",
   "metadata": {
    "scrolled": true
   },
   "outputs": [],
   "source": [
    "fno.fit(rekis_train, rekis_dev, args.epochs)"
   ]
  },
  {
   "cell_type": "markdown",
   "id": "dc5d66cf-dced-4e6d-ac9b-2d71f831eb2c",
   "metadata": {},
   "source": [
    "### CORDEX"
   ]
  },
  {
   "cell_type": "code",
   "execution_count": 48,
   "id": "a838177a-a0da-4967-b8e1-827dec462db9",
   "metadata": {},
   "outputs": [
    {
     "name": "stdout",
     "output_type": "stream",
     "text": [
      "2000-03-01\n",
      "2023-12-31\n",
      "2000-04-01\n",
      "2023-12-31\n",
      "Loading 8 NetCDF file(s)...\n",
      "Loaded data shape: {'time': 31, 'bnds': 2, 'rlat': 412, 'rlon': 424, 'vertices': 4}\n",
      "Time range: 2000-03-01 12:00:00 to 2000-03-31 12:00:00\n",
      "Variables in dataset: ['tas']\n",
      "Pre reproject shape:\n",
      "tas: (31, 412, 424)\n"
     ]
    },
    {
     "ename": "MissingSpatialDimensionError",
     "evalue": "x dimension (easting) not found.",
     "output_type": "error",
     "traceback": [
      "\u001b[0;31m---------------------------------------------------------------------------\u001b[0m",
      "\u001b[0;31mMissingSpatialDimensionError\u001b[0m              Traceback (most recent call last)",
      "Cell \u001b[0;32mIn[48], line 3\u001b[0m\n\u001b[1;32m      1\u001b[0m \u001b[38;5;66;03m### FIX\u001b[39;00m\n\u001b[0;32m----> 3\u001b[0m cordex \u001b[38;5;241m=\u001b[39m \u001b[43mCORDEX\u001b[49m\u001b[43m(\u001b[49m\n\u001b[1;32m      4\u001b[0m \u001b[43m    \u001b[49m\u001b[43mdata_path\u001b[49m\u001b[38;5;241;43m=\u001b[39;49m\u001b[43mCORDEX_DATA_PATH\u001b[49m\u001b[43m,\u001b[49m\n\u001b[1;32m      5\u001b[0m \u001b[43m    \u001b[49m\u001b[43mvariables\u001b[49m\u001b[38;5;241;43m=\u001b[39;49m\u001b[43margs\u001b[49m\u001b[38;5;241;43m.\u001b[39;49m\u001b[43mvariables\u001b[49m\u001b[43m,\u001b[49m\n\u001b[1;32m      6\u001b[0m \u001b[43m    \u001b[49m\u001b[43mdev_len\u001b[49m\u001b[38;5;241;43m=\u001b[39;49m\u001b[43m(\u001b[49m\u001b[38;5;124;43m\"\u001b[39;49m\u001b[38;5;124;43m2000-03-01\u001b[39;49m\u001b[38;5;124;43m\"\u001b[39;49m\u001b[43m,\u001b[49m\u001b[43m \u001b[49m\u001b[38;5;124;43m\"\u001b[39;49m\u001b[38;5;124;43m2000-04-01\u001b[39;49m\u001b[38;5;124;43m\"\u001b[39;49m\u001b[43m)\u001b[49m\u001b[43m,\u001b[49m\n\u001b[1;32m      7\u001b[0m \u001b[43m    \u001b[49m\u001b[43mtest_len\u001b[49m\u001b[38;5;241;43m=\u001b[39;49m\u001b[43m(\u001b[49m\u001b[38;5;124;43m\"\u001b[39;49m\u001b[38;5;124;43m2000-04-01\u001b[39;49m\u001b[38;5;124;43m\"\u001b[39;49m\u001b[43m,\u001b[49m\u001b[43m \u001b[49m\u001b[38;5;124;43m\"\u001b[39;49m\u001b[38;5;124;43m2000-06-01\u001b[39;49m\u001b[38;5;124;43m\"\u001b[39;49m\u001b[43m)\u001b[49m\u001b[43m,\u001b[49m\n\u001b[1;32m      8\u001b[0m \u001b[43m    \u001b[49m\u001b[43mresampling\u001b[49m\u001b[38;5;241;43m=\u001b[39;49m\u001b[38;5;124;43m\"\u001b[39;49m\u001b[38;5;124;43mcubic_spline\u001b[39;49m\u001b[38;5;124;43m\"\u001b[39;49m\n\u001b[1;32m      9\u001b[0m \u001b[43m)\u001b[49m\n",
      "File \u001b[0;32m~/cddlt_notebook/venv/lib/python3.12/site-packages/cddlt/datasets/cordex_dataset.py:96\u001b[0m, in \u001b[0;36mCORDEX.__init__\u001b[0;34m(self, data_path, variables, dev_len, test_len, resampling)\u001b[0m\n\u001b[1;32m     93\u001b[0m \u001b[38;5;28;01mfor\u001b[39;00m dataset, interval \u001b[38;5;129;01min\u001b[39;00m \u001b[38;5;28mzip\u001b[39m(\u001b[38;5;28mself\u001b[39m\u001b[38;5;241m.\u001b[39mSETS_NAMES, intervals):\n\u001b[1;32m     94\u001b[0m     \u001b[38;5;66;03m#dataset_path = Path(data_path) / self.DATASET_NAME\u001b[39;00m\n\u001b[1;32m     95\u001b[0m     dataset_obj \u001b[38;5;241m=\u001b[39m \u001b[38;5;28mself\u001b[39m\u001b[38;5;241m.\u001b[39mDataset(data_path, interval, \u001b[38;5;28mself\u001b[39m\u001b[38;5;241m.\u001b[39mvariables)\n\u001b[0;32m---> 96\u001b[0m     \u001b[43mdataset_obj\u001b[49m\u001b[38;5;241;43m.\u001b[39;49m\u001b[43mreproject\u001b[49m\u001b[43m(\u001b[49m\u001b[38;5;28;43mself\u001b[39;49m\u001b[38;5;241;43m.\u001b[39;49m\u001b[43mREPROJECT_FN\u001b[49m\u001b[43m(\u001b[49m\u001b[43mresampling\u001b[49m\u001b[43m)\u001b[49m\u001b[43m,\u001b[49m\u001b[43m \u001b[49m\u001b[43msplit_target\u001b[49m\u001b[38;5;241;43m=\u001b[39;49m\u001b[38;5;28;43;01mFalse\u001b[39;49;00m\u001b[43m)\u001b[49m\n\u001b[1;32m     97\u001b[0m     dataset_obj\u001b[38;5;241m.\u001b[39mconvert_kelvin_to_celsius()\n\u001b[1;32m     98\u001b[0m     \u001b[38;5;28msetattr\u001b[39m(\u001b[38;5;28mself\u001b[39m, dataset, dataset_obj)\n",
      "File \u001b[0;32m~/cddlt_notebook/venv/lib/python3.12/site-packages/cddlt/datasets/netcdf_dataset.py:67\u001b[0m, in \u001b[0;36mNetCDFDataset.reproject\u001b[0;34m(self, reproject_fn, split_target)\u001b[0m\n\u001b[1;32m     64\u001b[0m \u001b[38;5;28;01mfor\u001b[39;00m var \u001b[38;5;129;01min\u001b[39;00m \u001b[38;5;28mself\u001b[39m\u001b[38;5;241m.\u001b[39mdataset\u001b[38;5;241m.\u001b[39mdata_vars:\n\u001b[1;32m     65\u001b[0m     \u001b[38;5;28mprint\u001b[39m(\u001b[38;5;124mf\u001b[39m\u001b[38;5;124m\"\u001b[39m\u001b[38;5;132;01m{\u001b[39;00mvar\u001b[38;5;132;01m}\u001b[39;00m\u001b[38;5;124m: \u001b[39m\u001b[38;5;132;01m{\u001b[39;00m\u001b[38;5;28mself\u001b[39m\u001b[38;5;241m.\u001b[39mdataset[var]\u001b[38;5;241m.\u001b[39mshape\u001b[38;5;132;01m}\u001b[39;00m\u001b[38;5;124m\"\u001b[39m)\n\u001b[0;32m---> 67\u001b[0m \u001b[38;5;28;43mself\u001b[39;49m\u001b[38;5;241;43m.\u001b[39;49m\u001b[43mdataset\u001b[49m\u001b[38;5;241;43m.\u001b[39;49m\u001b[43mrio\u001b[49m\u001b[38;5;241;43m.\u001b[39;49m\u001b[43mset_spatial_dims\u001b[49m\u001b[43m(\u001b[49m\u001b[38;5;124;43m\"\u001b[39;49m\u001b[38;5;124;43measting\u001b[39;49m\u001b[38;5;124;43m\"\u001b[39;49m\u001b[43m,\u001b[49m\u001b[43m \u001b[49m\u001b[38;5;124;43m\"\u001b[39;49m\u001b[38;5;124;43mnorthing\u001b[39;49m\u001b[38;5;124;43m\"\u001b[39;49m\u001b[43m)\u001b[49m\n\u001b[1;32m     68\u001b[0m \u001b[38;5;28mself\u001b[39m\u001b[38;5;241m.\u001b[39minputs \u001b[38;5;241m=\u001b[39m reproject_fn(\u001b[38;5;28mself\u001b[39m\u001b[38;5;241m.\u001b[39mdataset)\n\u001b[1;32m     69\u001b[0m \u001b[38;5;28mself\u001b[39m\u001b[38;5;241m.\u001b[39mtargets \u001b[38;5;241m=\u001b[39m \u001b[38;5;28mself\u001b[39m\u001b[38;5;241m.\u001b[39mdataset \u001b[38;5;28;01mif\u001b[39;00m \u001b[38;5;28mself\u001b[39m\u001b[38;5;241m.\u001b[39msplit_target \u001b[38;5;28;01melse\u001b[39;00m \u001b[38;5;28mself\u001b[39m\u001b[38;5;241m.\u001b[39minputs\n",
      "File \u001b[0;32m~/cddlt_notebook/venv/lib/python3.12/site-packages/rioxarray/rioxarray.py:858\u001b[0m, in \u001b[0;36mXRasterBase.set_spatial_dims\u001b[0;34m(self, x_dim, y_dim, inplace)\u001b[0m\n\u001b[1;32m    856\u001b[0m     data_obj\u001b[38;5;241m.\u001b[39mrio\u001b[38;5;241m.\u001b[39m_x_dim \u001b[38;5;241m=\u001b[39m x_dim\n\u001b[1;32m    857\u001b[0m \u001b[38;5;28;01melse\u001b[39;00m:\n\u001b[0;32m--> 858\u001b[0m     \u001b[38;5;28;01mraise\u001b[39;00m MissingSpatialDimensionError(\n\u001b[1;32m    859\u001b[0m         \u001b[38;5;124mf\u001b[39m\u001b[38;5;124m\"\u001b[39m\u001b[38;5;124mx dimension (\u001b[39m\u001b[38;5;132;01m{\u001b[39;00mx_dim\u001b[38;5;132;01m}\u001b[39;00m\u001b[38;5;124m) not found.\u001b[39m\u001b[38;5;132;01m{\u001b[39;00m_get_data_var_message(data_obj)\u001b[38;5;132;01m}\u001b[39;00m\u001b[38;5;124m\"\u001b[39m\n\u001b[1;32m    860\u001b[0m     )\n\u001b[1;32m    861\u001b[0m \u001b[38;5;28;01mif\u001b[39;00m y_dim \u001b[38;5;129;01min\u001b[39;00m data_obj\u001b[38;5;241m.\u001b[39mdims:\n\u001b[1;32m    862\u001b[0m     data_obj\u001b[38;5;241m.\u001b[39mrio\u001b[38;5;241m.\u001b[39m_y_dim \u001b[38;5;241m=\u001b[39m y_dim\n",
      "\u001b[0;31mMissingSpatialDimensionError\u001b[0m: x dimension (easting) not found."
     ]
    }
   ],
   "source": [
    "### FIX\n",
    "cordex = CORDEX(\n",
    "    data_path=CORDEX_DATA_PATH,\n",
    "    variables=args.variables,\n",
    "    dev_len=(\"2000-03-01\", \"2000-04-01\"),\n",
    "    test_len=(\"2000-04-01\", \"2000-06-01\"),\n",
    "    resampling=\"cubic_spline\"\n",
    ")"
   ]
  },
  {
   "cell_type": "code",
   "execution_count": null,
   "id": "5b5d7280-1d45-4d52-a831-56620e646083",
   "metadata": {},
   "outputs": [],
   "source": []
  }
 ],
 "metadata": {
  "kernelspec": {
   "display_name": "Python (venv)",
   "language": "python",
   "name": "venv"
  },
  "language_info": {
   "codemirror_mode": {
    "name": "ipython",
    "version": 3
   },
   "file_extension": ".py",
   "mimetype": "text/x-python",
   "name": "python",
   "nbconvert_exporter": "python",
   "pygments_lexer": "ipython3",
   "version": "3.12.3"
  }
 },
 "nbformat": 4,
 "nbformat_minor": 5
}
